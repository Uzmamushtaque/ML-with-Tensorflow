{
  "nbformat": 4,
  "nbformat_minor": 0,
  "metadata": {
    "colab": {
      "name": "Linear Regression with Tensorflow.ipynb",
      "provenance": [],
      "authorship_tag": "ABX9TyOd6klSWaZDzrUfgSnvMNcI",
      "include_colab_link": true
    },
    "kernelspec": {
      "name": "python3",
      "display_name": "Python 3"
    },
    "language_info": {
      "name": "python"
    }
  },
  "cells": [
    {
      "cell_type": "markdown",
      "metadata": {
        "id": "view-in-github",
        "colab_type": "text"
      },
      "source": [
        "<a href=\"https://colab.research.google.com/github/Uzmamushtaque/ML-with-Tensorflow/blob/main/Linear_Regression_with_Tensorflow.ipynb\" target=\"_parent\"><img src=\"https://colab.research.google.com/assets/colab-badge.svg\" alt=\"Open In Colab\"/></a>"
      ]
    },
    {
      "cell_type": "markdown",
      "metadata": {
        "id": "YG0OA01_Du5v"
      },
      "source": [
        "Linear Regression Implementation using Tensorflow"
      ]
    },
    {
      "cell_type": "code",
      "metadata": {
        "id": "oNCucS-jEo-n"
      },
      "source": [
        "import random\n",
        "import tensorflow as tf\n",
        "import matplotlib.pyplot as plt\n"
      ],
      "execution_count": 11,
      "outputs": []
    },
    {
      "cell_type": "code",
      "metadata": {
        "id": "8oZntFknFKT0"
      },
      "source": [
        "def synthetic_data(w, b, num_examples): \n",
        "    \"\"\"Generate y = Xw + b + noise.\"\"\"\n",
        "    X = tf.zeros((num_examples, w.shape[0]))\n",
        "    X += tf.random.normal(shape=X.shape)\n",
        "    y = tf.matmul(X, tf.reshape(w, (-1, 1))) + b\n",
        "    y += tf.random.normal(shape=y.shape, stddev=0.01)\n",
        "    y = tf.reshape(y, (-1, 1))\n",
        "    return X, y\n",
        "\n",
        "true_w = tf.constant([2, -3.4])\n",
        "true_b = 4.2\n",
        "features, labels = synthetic_data(true_w, true_b, 1000)"
      ],
      "execution_count": 7,
      "outputs": []
    },
    {
      "cell_type": "code",
      "metadata": {
        "colab": {
          "base_uri": "https://localhost:8080/"
        },
        "id": "tHdUB8jTFXE9",
        "outputId": "3ff410b7-586e-4681-b2e1-28e497d71e26"
      },
      "source": [
        "print('features:', features[0], '\\nlabel:', labels[0])"
      ],
      "execution_count": 8,
      "outputs": [
        {
          "output_type": "stream",
          "text": [
            "features: tf.Tensor([-1.3660494  1.5426173], shape=(2,), dtype=float32) \n",
            "label: tf.Tensor([-3.7908213], shape=(1,), dtype=float32)\n"
          ],
          "name": "stdout"
        }
      ]
    },
    {
      "cell_type": "code",
      "metadata": {
        "colab": {
          "base_uri": "https://localhost:8080/",
          "height": 283
        },
        "id": "WC4c7Ay6Fwon",
        "outputId": "ba7106a1-ab80-4745-f9b6-ac3b4e3e4faa"
      },
      "source": [
        "#tf.set_figsize()\n",
        "# The semicolon is for displaying the plot only\n",
        "plt.scatter(features[:, (1)].numpy(), labels.numpy(), 1)"
      ],
      "execution_count": 12,
      "outputs": [
        {
          "output_type": "execute_result",
          "data": {
            "text/plain": [
              "<matplotlib.collections.PathCollection at 0x7f00c146db90>"
            ]
          },
          "metadata": {
            "tags": []
          },
          "execution_count": 12
        },
        {
          "output_type": "display_data",
          "data": {
            "image/png": "[encoded data removed]",
            "text/plain": [
              "<Figure size 432x288 with 1 Axes>"
            ]
          },
          "metadata": {
            "tags": [],
            "needs_background": "light"
          }
        }
      ]
    },
    {
      "cell_type": "markdown",
      "metadata": {
        "id": "ZLqMjTvtGI-_"
      },
      "source": [
        "Create a function to form mini-batches of data (multiple passes)."
      ]
    },
    {
      "cell_type": "code",
      "metadata": {
        "id": "-4XcPPrqGagT"
      },
      "source": [
        "def data_iter(batch_size, features, labels):\n",
        "    num_examples = len(features)\n",
        "    indices = list(range(num_examples))\n",
        "    # The examples are read at random, in no particular order\n",
        "    random.shuffle(indices)\n",
        "    for i in range(0, num_examples, batch_size):\n",
        "        j = tf.constant(indices[i:min(i + batch_size, num_examples)])\n",
        "        yield tf.gather(features, j), tf.gather(labels, j)"
      ],
      "execution_count": 13,
      "outputs": []
    },
    {
      "cell_type": "code",
      "metadata": {
        "colab": {
          "base_uri": "https://localhost:8080/"
        },
        "id": "teBuDY6JG_YG",
        "outputId": "41466670-dc36-4763-87d2-d6b34ee44cf1"
      },
      "source": [
        "batch_size = 10\n",
        "\n",
        "for X, y in data_iter(batch_size, features, labels):\n",
        "    print(X, '\\n', y)\n",
        "    break"
      ],
      "execution_count": 14,
      "outputs": [
        {
          "output_type": "stream",
          "text": [
            "tf.Tensor(\n",
            "[[ 1.7122906   0.29417062]\n",
            " [-0.4545418   0.21807891]\n",
            " [ 0.12247421  0.91440004]\n",
            " [-0.36101276  0.07182568]\n",
            " [-2.2627032  -1.4746025 ]\n",
            " [-0.10242056  0.54203844]\n",
            " [ 0.41216797 -1.5460815 ]\n",
            " [ 0.4987404   2.0102758 ]\n",
            " [-0.02765741  0.32291406]\n",
            " [ 1.6963754  -1.2815439 ]], shape=(10, 2), dtype=float32) \n",
            " tf.Tensor(\n",
            "[[ 6.620049 ]\n",
            " [ 2.5422077]\n",
            " [ 1.3491087]\n",
            " [ 3.2208586]\n",
            " [ 4.690246 ]\n",
            " [ 2.142361 ]\n",
            " [10.290553 ]\n",
            " [-1.6277652]\n",
            " [ 3.0490074]\n",
            " [11.96849  ]], shape=(10, 1), dtype=float32)\n"
          ],
          "name": "stdout"
        }
      ]
    },
    {
      "cell_type": "markdown",
      "metadata": {
        "id": "KxIyN5MMHTJq"
      },
      "source": [
        "Initializing model parameters"
      ]
    },
    {
      "cell_type": "code",
      "metadata": {
        "id": "Pi4IeYjlHYxu"
      },
      "source": [
        "w = tf.Variable(tf.random.normal(shape=(2, 1), mean=0, stddev=0.01),\n",
        "                trainable=True)\n",
        "b = tf.Variable(tf.zeros(1), trainable=True)"
      ],
      "execution_count": 15,
      "outputs": []
    },
    {
      "cell_type": "markdown",
      "metadata": {
        "id": "3cU6jjHBHuRb"
      },
      "source": [
        "Defining the Model"
      ]
    },
    {
      "cell_type": "code",
      "metadata": {
        "id": "o5TstscCHxm0"
      },
      "source": [
        "def linreg(X, w, b): \n",
        "    \"\"\"The linear regression model.\"\"\"\n",
        "    return tf.matmul(X, w) + b"
      ],
      "execution_count": 16,
      "outputs": []
    },
    {
      "cell_type": "markdown",
      "metadata": {
        "id": "WfqjijaYH4Nb"
      },
      "source": [
        "Defining the Loss function"
      ]
    },
    {
      "cell_type": "code",
      "metadata": {
        "id": "4aauq1XcH7Z0"
      },
      "source": [
        "def squared_loss(y_hat, y): \n",
        "    \"\"\"Squared loss.\"\"\"\n",
        "    return (y_hat - tf.reshape(y, y_hat.shape))**2 / 2"
      ],
      "execution_count": 18,
      "outputs": []
    },
    {
      "cell_type": "markdown",
      "metadata": {
        "id": "Ig6OzVZ8IVOc"
      },
      "source": [
        "The Optimization Algorithm"
      ]
    },
    {
      "cell_type": "code",
      "metadata": {
        "id": "162ZcrnLIYJ9"
      },
      "source": [
        "def sgd(params, grads, lr, batch_size): \n",
        "    \"\"\"Minibatch stochastic gradient descent.\"\"\"\n",
        "    for param, grad in zip(params, grads):\n",
        "        param.assign_sub(lr * grad / batch_size)"
      ],
      "execution_count": 19,
      "outputs": []
    },
    {
      "cell_type": "markdown",
      "metadata": {
        "id": "xXGo85qwIu9j"
      },
      "source": [
        "Training the Model"
      ]
    },
    {
      "cell_type": "code",
      "metadata": {
        "colab": {
          "base_uri": "https://localhost:8080/"
        },
        "id": "3fB70ZepIxcZ",
        "outputId": "9c1a0cc2-74b3-46dc-fe95-e11f677a087b"
      },
      "source": [
        "lr = 0.03\n",
        "num_epochs = 3\n",
        "net = linreg\n",
        "loss = squared_loss\n",
        "\n",
        "for epoch in range(num_epochs):\n",
        "    for X, y in data_iter(batch_size, features, labels):\n",
        "        with tf.GradientTape() as g:\n",
        "            l = loss(net(X, w, b), y)  # Minibatch loss in `X` and `y`\n",
        "        # Compute gradient on l with respect to [`w`, `b`]\n",
        "        dw, db = g.gradient(l, [w, b])\n",
        "        # Update parameters using their gradient\n",
        "        sgd([w, b], [dw, db], lr, batch_size)\n",
        "    train_l = loss(net(features, w, b), labels)\n",
        "    print(f'epoch {epoch + 1}, loss {float(tf.reduce_mean(train_l)):f}')"
      ],
      "execution_count": 20,
      "outputs": [
        {
          "output_type": "stream",
          "text": [
            "epoch 1, loss 0.026590\n",
            "epoch 2, loss 0.000091\n",
            "epoch 3, loss 0.000050\n"
          ],
          "name": "stdout"
        }
      ]
    },
    {
      "cell_type": "code",
      "metadata": {
        "colab": {
          "base_uri": "https://localhost:8080/"
        },
        "id": "EjXC3to_I8hj",
        "outputId": "3798c3c5-f77e-4ae0-d1a2-ae1f6878f4d2"
      },
      "source": [
        "print(f'error in estimating w: {true_w - tf.reshape(w, true_w.shape)}')\n",
        "print(f'error in estimating b: {true_b - b}')"
      ],
      "execution_count": 21,
      "outputs": [
        {
          "output_type": "stream",
          "text": [
            "error in estimating w: [0.00023234 0.00036311]\n",
            "error in estimating b: [-4.339218e-05]\n"
          ],
          "name": "stdout"
        }
      ]
    }
  ]
}